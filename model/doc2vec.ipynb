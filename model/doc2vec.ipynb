{
 "cells": [
  {
   "cell_type": "markdown",
   "metadata": {},
   "source": [
    "https://radimrehurek.com/gensim/models/doc2vec.html\n",
    "\n",
    "https://github.com/RaRe-Technologies/gensim/blob/develop/docs/notebooks/doc2vec-lee.ipynb"
   ]
  },
  {
   "cell_type": "code",
   "execution_count": 10,
   "metadata": {},
   "outputs": [],
   "source": [
    "import pickle\n",
    "\n",
    "from gensim.test.utils import common_texts\n",
    "from gensim.models.doc2vec import Doc2Vec, TaggedDocument"
   ]
  },
  {
   "cell_type": "code",
   "execution_count": 11,
   "metadata": {
    "collapsed": true
   },
   "outputs": [],
   "source": [
    "para_file = \"../data/music.para\"\n",
    "\n",
    "pkl_file = open(para_file, 'rb')\n",
    "\n",
    "para = pickle.load(pkl_file)\n",
    "user_num = para['user_num'] # 1429\n",
    "item_num = para['item_num'] # 900\n",
    "review_num_u = para['review_num_u'] # 9\n",
    "review_num_i = para['review_num_i'] # 16\n",
    "review_len_u = para['review_len_u'] # 198\n",
    "review_len_i = para['review_len_i']\n",
    "vocabulary_user = para['user_vocab']\n",
    "vocabulary_item = para['item_vocab']\n",
    "train_length = para['train_length']\n",
    "test_length = para['test_length']\n",
    "u_text = para['u_text']\n",
    "i_text = para['i_text']"
   ]
  },
  {
   "cell_type": "code",
   "execution_count": 24,
   "metadata": {},
   "outputs": [],
   "source": [
    "# use index as key, word as value\n",
    "inv_vocab_user = {v: k for k, v in vocabulary_user.items()}\n",
    "inv_vocab_item = {v: k for k, v in vocabulary_item.items()}"
   ]
  },
  {
   "cell_type": "code",
   "execution_count": 29,
   "metadata": {
    "collapsed": true
   },
   "outputs": [],
   "source": [
    "def get_review(text_dict, user_num_idx, user_review_idx, vocab_lookup):\n",
    "    entry = text_dict[user_num_idx][user_review_idx]\n",
    "    review = []\n",
    "    for i in range(len(entry)):\n",
    "        review.append(vocab_lookup[entry[i]])\n",
    "    return review"
   ]
  },
  {
   "cell_type": "code",
   "execution_count": 42,
   "metadata": {},
   "outputs": [
    {
     "data": {
      "text/plain": [
       "['a',\n",
       " 'friend',\n",
       " 'of',\n",
       " 'my',\n",
       " 'has',\n",
       " 'one',\n",
       " 'and',\n",
       " 'i',\n",
       " 'just',\n",
       " 'found',\n",
       " 'in',\n",
       " 'love',\n",
       " 'with',\n",
       " 'it',\n",
       " 'great',\n",
       " 'sound',\n",
       " 'beautiful',\n",
       " 'color',\n",
       " 'the',\n",
       " 'applause',\n",
       " 'exceeds',\n",
       " 'my',\n",
       " 'expectation',\n",
       " 'whether',\n",
       " 'it',\n",
       " 'is',\n",
       " 'unplugged',\n",
       " 'or',\n",
       " 'amplified',\n",
       " '<PAD/>',\n",
       " '<PAD/>',\n",
       " '<PAD/>',\n",
       " '<PAD/>',\n",
       " '<PAD/>',\n",
       " '<PAD/>',\n",
       " '<PAD/>',\n",
       " '<PAD/>',\n",
       " '<PAD/>',\n",
       " '<PAD/>',\n",
       " '<PAD/>',\n",
       " '<PAD/>',\n",
       " '<PAD/>',\n",
       " '<PAD/>',\n",
       " '<PAD/>',\n",
       " '<PAD/>',\n",
       " '<PAD/>',\n",
       " '<PAD/>',\n",
       " '<PAD/>',\n",
       " '<PAD/>',\n",
       " '<PAD/>',\n",
       " '<PAD/>',\n",
       " '<PAD/>',\n",
       " '<PAD/>',\n",
       " '<PAD/>',\n",
       " '<PAD/>',\n",
       " '<PAD/>',\n",
       " '<PAD/>',\n",
       " '<PAD/>',\n",
       " '<PAD/>',\n",
       " '<PAD/>',\n",
       " '<PAD/>',\n",
       " '<PAD/>',\n",
       " '<PAD/>',\n",
       " '<PAD/>',\n",
       " '<PAD/>',\n",
       " '<PAD/>',\n",
       " '<PAD/>',\n",
       " '<PAD/>',\n",
       " '<PAD/>',\n",
       " '<PAD/>',\n",
       " '<PAD/>',\n",
       " '<PAD/>',\n",
       " '<PAD/>',\n",
       " '<PAD/>',\n",
       " '<PAD/>',\n",
       " '<PAD/>',\n",
       " '<PAD/>',\n",
       " '<PAD/>',\n",
       " '<PAD/>',\n",
       " '<PAD/>',\n",
       " '<PAD/>',\n",
       " '<PAD/>',\n",
       " '<PAD/>',\n",
       " '<PAD/>',\n",
       " '<PAD/>',\n",
       " '<PAD/>',\n",
       " '<PAD/>',\n",
       " '<PAD/>',\n",
       " '<PAD/>',\n",
       " '<PAD/>',\n",
       " '<PAD/>',\n",
       " '<PAD/>',\n",
       " '<PAD/>',\n",
       " '<PAD/>',\n",
       " '<PAD/>',\n",
       " '<PAD/>',\n",
       " '<PAD/>',\n",
       " '<PAD/>',\n",
       " '<PAD/>',\n",
       " '<PAD/>',\n",
       " '<PAD/>',\n",
       " '<PAD/>',\n",
       " '<PAD/>',\n",
       " '<PAD/>',\n",
       " '<PAD/>',\n",
       " '<PAD/>',\n",
       " '<PAD/>',\n",
       " '<PAD/>',\n",
       " '<PAD/>',\n",
       " '<PAD/>',\n",
       " '<PAD/>',\n",
       " '<PAD/>',\n",
       " '<PAD/>',\n",
       " '<PAD/>',\n",
       " '<PAD/>',\n",
       " '<PAD/>',\n",
       " '<PAD/>',\n",
       " '<PAD/>',\n",
       " '<PAD/>',\n",
       " '<PAD/>',\n",
       " '<PAD/>',\n",
       " '<PAD/>',\n",
       " '<PAD/>',\n",
       " '<PAD/>',\n",
       " '<PAD/>',\n",
       " '<PAD/>',\n",
       " '<PAD/>',\n",
       " '<PAD/>',\n",
       " '<PAD/>',\n",
       " '<PAD/>',\n",
       " '<PAD/>',\n",
       " '<PAD/>',\n",
       " '<PAD/>',\n",
       " '<PAD/>',\n",
       " '<PAD/>',\n",
       " '<PAD/>',\n",
       " '<PAD/>',\n",
       " '<PAD/>',\n",
       " '<PAD/>',\n",
       " '<PAD/>',\n",
       " '<PAD/>',\n",
       " '<PAD/>',\n",
       " '<PAD/>',\n",
       " '<PAD/>',\n",
       " '<PAD/>',\n",
       " '<PAD/>',\n",
       " '<PAD/>',\n",
       " '<PAD/>',\n",
       " '<PAD/>',\n",
       " '<PAD/>',\n",
       " '<PAD/>',\n",
       " '<PAD/>',\n",
       " '<PAD/>',\n",
       " '<PAD/>',\n",
       " '<PAD/>',\n",
       " '<PAD/>',\n",
       " '<PAD/>',\n",
       " '<PAD/>',\n",
       " '<PAD/>',\n",
       " '<PAD/>',\n",
       " '<PAD/>',\n",
       " '<PAD/>',\n",
       " '<PAD/>',\n",
       " '<PAD/>',\n",
       " '<PAD/>',\n",
       " '<PAD/>',\n",
       " '<PAD/>',\n",
       " '<PAD/>',\n",
       " '<PAD/>',\n",
       " '<PAD/>',\n",
       " '<PAD/>',\n",
       " '<PAD/>',\n",
       " '<PAD/>',\n",
       " '<PAD/>',\n",
       " '<PAD/>',\n",
       " '<PAD/>',\n",
       " '<PAD/>',\n",
       " '<PAD/>',\n",
       " '<PAD/>',\n",
       " '<PAD/>',\n",
       " '<PAD/>',\n",
       " '<PAD/>',\n",
       " '<PAD/>',\n",
       " '<PAD/>',\n",
       " '<PAD/>',\n",
       " '<PAD/>',\n",
       " '<PAD/>',\n",
       " '<PAD/>',\n",
       " '<PAD/>',\n",
       " '<PAD/>',\n",
       " '<PAD/>',\n",
       " '<PAD/>',\n",
       " '<PAD/>',\n",
       " '<PAD/>',\n",
       " '<PAD/>',\n",
       " '<PAD/>',\n",
       " '<PAD/>',\n",
       " '<PAD/>']"
      ]
     },
     "execution_count": 42,
     "metadata": {},
     "output_type": "execute_result"
    }
   ],
   "source": [
    "temp = get_review(u_text, 0, 1, inv_vocab_user)\n",
    "temp"
   ]
  },
  {
   "cell_type": "code",
   "execution_count": 68,
   "metadata": {},
   "outputs": [],
   "source": [
    "user_reviews = []\n",
    "for u in range(user_num): #1429 = number of users\n",
    "    for r in range(review_num_u): # 9 = reviews per user\n",
    "        review = get_review(u_text, u, r, inv_vocab_user)\n",
    "        tagged = TaggedDocument(review, [u,r])\n",
    "        user_reviews.append(tagged)"
   ]
  },
  {
   "cell_type": "code",
   "execution_count": 72,
   "metadata": {
    "collapsed": true
   },
   "outputs": [],
   "source": [
    "model = Doc2Vec(vector_size=128, min_count=1, epochs=40, window=2, workers=4)"
   ]
  },
  {
   "cell_type": "code",
   "execution_count": 73,
   "metadata": {
    "collapsed": true
   },
   "outputs": [],
   "source": [
    "model.build_vocab(user_reviews)"
   ]
  },
  {
   "cell_type": "code",
   "execution_count": 75,
   "metadata": {},
   "outputs": [
    {
     "name": "stdout",
     "output_type": "stream",
     "text": [
      "Wall time: 1min 29s\n"
     ]
    }
   ],
   "source": [
    "%time model.train(user_reviews, total_examples=model.corpus_count, epochs=model.epochs)"
   ]
  },
  {
   "cell_type": "code",
   "execution_count": 76,
   "metadata": {
    "collapsed": true
   },
   "outputs": [],
   "source": [
    "model.delete_temporary_training_data(keep_doctags_vectors=True, keep_inference=True)"
   ]
  },
  {
   "cell_type": "code",
   "execution_count": 81,
   "metadata": {},
   "outputs": [
    {
     "data": {
      "text/plain": [
       "array([-2.81952292e-01,  6.23476148e-01,  1.22917068e+00,  2.96396255e-01,\n",
       "        8.59766364e-01, -5.02707660e-01, -6.03087664e-01, -7.24172592e-01,\n",
       "       -1.79975778e-02, -3.67863029e-01,  3.21529001e-01,  7.22544730e-01,\n",
       "        3.66530776e-01,  4.83336419e-01,  5.94649494e-01, -6.65515214e-02,\n",
       "        8.32855821e-01, -2.57156461e-01,  3.76165152e-01,  6.01458192e-01,\n",
       "        3.58494073e-01,  1.17316961e-01,  4.29189116e-01, -7.96213094e-03,\n",
       "       -1.33686408e-01, -4.96212751e-01, -1.01729167e+00,  5.38982093e-01,\n",
       "        2.12247625e-01, -5.13342805e-02,  7.51152873e-01, -4.87808645e-01,\n",
       "        1.89833805e-01, -2.97091663e-01,  8.50569904e-01, -4.51287776e-01,\n",
       "       -4.50620413e-01, -1.05314350e+00,  3.07825416e-01,  1.23046055e-01,\n",
       "        1.63731202e-01,  9.82917249e-01, -2.22261161e-01,  3.56254876e-01,\n",
       "       -1.28234282e-01, -9.61014361e-04,  1.05153489e+00, -1.46466136e+00,\n",
       "       -2.22883865e-01, -4.09364313e-01,  1.58497021e-01, -2.17255577e-01,\n",
       "        1.46820813e-01,  5.56218624e-02, -5.46837091e-01, -9.78470683e-01,\n",
       "        6.23721361e-01,  9.41181302e-01,  1.87418416e-01,  1.90222606e-01,\n",
       "        6.08333707e-01, -4.42187548e-01, -4.19348449e-01, -5.52927136e-01,\n",
       "       -5.51366687e-01, -1.74714670e-01,  1.76746607e-01, -1.35551821e-02,\n",
       "        1.92610547e-01,  9.02115285e-01,  6.00983202e-01, -2.43899435e-01,\n",
       "        1.27064720e-01, -6.11498393e-02,  4.91452783e-01,  4.85143602e-01,\n",
       "        5.66076279e-01, -2.04354391e-01,  3.78952146e-01,  1.69596508e-01,\n",
       "       -4.06608790e-01,  3.12253386e-01, -3.47157925e-01,  1.11004859e-01,\n",
       "       -5.69257259e-01,  6.13552853e-02, -1.91559792e-02, -4.17752117e-01,\n",
       "       -2.36145213e-01,  1.95556045e-01, -9.17179167e-01,  5.23866005e-02,\n",
       "        6.71020448e-01, -2.94818908e-01, -3.30823101e-02,  1.96632966e-02,\n",
       "       -1.51041627e-01, -2.22412311e-02, -4.22624022e-01, -6.15427971e-01,\n",
       "       -8.35570320e-02, -9.07673985e-02,  3.93546879e-01, -3.42896953e-02,\n",
       "       -6.23073757e-01,  5.00874221e-01,  2.22070038e-01, -5.08625627e-01,\n",
       "        1.17521420e-01,  5.48756480e-01,  3.43170673e-01,  1.03134286e+00,\n",
       "        9.98318315e-01,  6.97622538e-01, -8.93765688e-01,  2.43039921e-01,\n",
       "       -6.01939917e-01,  1.31909028e-01,  6.34546340e-01,  5.79664648e-01,\n",
       "        2.27213740e-01,  2.16601834e-01, -7.01828837e-01,  3.18665914e-02,\n",
       "        2.65492529e-01, -8.06675911e-01, -4.43835855e-02, -1.37065619e-01],\n",
       "      dtype=float32)"
      ]
     },
     "execution_count": 81,
     "metadata": {},
     "output_type": "execute_result"
    }
   ],
   "source": [
    "model.infer_vector(user_reviews[0].words)"
   ]
  }
 ],
 "metadata": {
  "kernelspec": {
   "display_name": "Python 3",
   "language": "python",
   "name": "python3"
  },
  "language_info": {
   "codemirror_mode": {
    "name": "ipython",
    "version": 3
   },
   "file_extension": ".py",
   "mimetype": "text/x-python",
   "name": "python",
   "nbconvert_exporter": "python",
   "pygments_lexer": "ipython3",
   "version": "3.6.7"
  }
 },
 "nbformat": 4,
 "nbformat_minor": 2
}
